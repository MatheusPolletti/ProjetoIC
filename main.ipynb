{
 "cells": [
  {
   "cell_type": "code",
   "execution_count": 25,
   "id": "ee08ef69",
   "metadata": {},
   "outputs": [],
   "source": [
    "# Bem vindo ao meu projeto de IC"
   ]
  },
  {
   "cell_type": "code",
   "execution_count": 26,
   "id": "fc9a7819",
   "metadata": {},
   "outputs": [],
   "source": [
    "# Esse projeto engloba a análise e Estudo das bibliotecas OpenCv e MediaPipe para captura de movimentos do corpo."
   ]
  },
  {
   "cell_type": "code",
   "execution_count": 27,
   "metadata": {},
   "outputs": [],
   "source": [
    "# Importando as bibliotecas para uso\n",
    "\n",
    "import cv2\n",
    "import mediapipe as mp\n",
    "import time\n",
    "import csv\n",
    "import numpy as np\n",
    "import pandas as pd\n",
    "import matplotlib.pyplot as plt"
   ]
  },
  {
   "cell_type": "code",
   "execution_count": 28,
   "id": "eaaa7168",
   "metadata": {},
   "outputs": [],
   "source": [
    "# Função auxiliar para calcular estabilidade dos pontos\n",
    "def calc_stability(prev_landmarks, curr_landmarks):\n",
    "    if prev_landmarks is None or curr_landmarks is None:\n",
    "        return None\n",
    "\n",
    "    diffs = [\n",
    "        np.linalg.norm(np.array([pl.x, pl.y]) - np.array([cl.x, cl.y]))\n",
    "        for pl, cl in zip(prev_landmarks, curr_landmarks)\n",
    "    ]\n",
    "    \n",
    "    return np.mean(diffs)"
   ]
  },
  {
   "cell_type": "code",
   "execution_count": 29,
   "id": "f6752102",
   "metadata": {},
   "outputs": [],
   "source": [
    "configs = [\n",
    "    {\"name\": \"Alta precisão\", \"model_complexity\": 2, \"smooth_landmarks\": True},\n",
    "    {\"name\": \"Média precisão\", \"model_complexity\": 1, \"smooth_landmarks\": True},\n",
    "    {\"name\": \"Baixa precisão (alta velocidade)\", \"model_complexity\": 0, \"smooth_landmarks\": False},\n",
    "]"
   ]
  },
  {
   "cell_type": "code",
   "execution_count": 30,
   "id": "23bb70e4",
   "metadata": {},
   "outputs": [],
   "source": [
    "mp_pose = mp.solutions.pose\n",
    "mp_drawing = mp.solutions.drawing_utils"
   ]
  },
  {
   "cell_type": "code",
   "execution_count": 31,
   "id": "94676e17",
   "metadata": {},
   "outputs": [
    {
     "name": "stdout",
     "output_type": "stream",
     "text": [
      "\n",
      " Testando configuração: Alta precisão\n",
      "Frames sem detecção: 0/10 (0.00%)\n",
      "FPS médio: 7.50\n",
      "Estabilidade média dos landmarks: 0.00635\n",
      "CSV salvo em: landmarks_Alta_precisão.csv\n",
      "\n",
      " Testando configuração: Média precisão\n",
      "Frames sem detecção: 0/26 (0.00%)\n",
      "FPS médio: 19.83\n",
      "Estabilidade média dos landmarks: 0.00679\n",
      "CSV salvo em: landmarks_Média_precisão.csv\n",
      "\n",
      " Testando configuração: Baixa precisão (alta velocidade)\n",
      "Frames sem detecção: 0/17 (0.00%)\n",
      "FPS médio: 20.78\n",
      "Estabilidade média dos landmarks: 0.01468\n",
      "CSV salvo em: landmarks_Baixa_precisão_(alta_velocidade).csv\n"
     ]
    }
   ],
   "source": [
    "for config in configs:\n",
    "    print(f\"\\n Testando configuração: {config['name']}\")\n",
    "\n",
    "    cap = cv2.VideoCapture(0)\n",
    "    pose = mp_pose.Pose(\n",
    "        static_image_mode=False,\n",
    "        # Defini valor o model_complexity com 1, 2 e tals.\n",
    "        model_complexity=config[\"model_complexity\"],\n",
    "        enable_segmentation=False,\n",
    "        # Aqui também definido como true ou não, isso é uma suavização que é feito entre os frames, deixando mais estável, mas mais lento\n",
    "        smooth_landmarks=config[\"smooth_landmarks\"],\n",
    "        # Mínimo para detectar alguém, valor médio\n",
    "        min_detection_confidence=0.5,\n",
    "        # Mínimo para continuar seguindo a movimentação de alguém, valor médio\n",
    "        min_tracking_confidence=0.5\n",
    "    )\n",
    "\n",
    "    prev_time = 0\n",
    "    prev_landmarks = None\n",
    "    stabilities = []\n",
    "    fps_values = []\n",
    "\n",
    "    csv_name = f\"landmarks_{config['name'].replace(' ', '_')}.csv\"\n",
    "    with open(csv_name, mode=\"w\", newline=\"\") as file:\n",
    "        writer = csv.writer(file)\n",
    "        header = [\"frame\", \"landmark_index\", \"x\", \"y\", \"z\", \"visibility\"]\n",
    "        writer.writerow(header)\n",
    "\n",
    "        frame_count = 0\n",
    "\n",
    "        while True:\n",
    "            ret, frame = cap.read()\n",
    "            if not ret:\n",
    "                break\n",
    "\n",
    "            rgb = cv2.cvtColor(frame, cv2.COLOR_BGR2RGB)\n",
    "            results = pose.process(rgb)\n",
    "\n",
    "            if results.pose_landmarks:\n",
    "                mp_drawing.draw_landmarks(\n",
    "                    frame,\n",
    "                    results.pose_landmarks,\n",
    "                    mp_pose.POSE_CONNECTIONS,\n",
    "                    mp_drawing.DrawingSpec(color=(0, 255, 0), thickness=2, circle_radius=2),\n",
    "                    mp_drawing.DrawingSpec(color=(0, 0, 255), thickness=2)\n",
    "                )\n",
    "\n",
    "                for i, lm in enumerate(results.pose_landmarks.landmark):\n",
    "                    writer.writerow([frame_count, i, lm.x, lm.y, lm.z, lm.visibility])\n",
    "\n",
    "                stability = calc_stability(prev_landmarks, results.pose_landmarks.landmark)\n",
    "                if stability is not None:\n",
    "                    stabilities.append(stability)\n",
    "\n",
    "                prev_landmarks = results.pose_landmarks.landmark\n",
    "\n",
    "            curr_time = time.time()\n",
    "            fps = 1 / (curr_time - prev_time) if prev_time else 0\n",
    "            prev_time = curr_time\n",
    "            fps_values.append(fps)\n",
    "\n",
    "            cv2.putText(frame, f\"FPS: {int(fps)}\", (10, 30),\n",
    "                        cv2.FONT_HERSHEY_SIMPLEX, 1, (255, 255, 255), 2)\n",
    "\n",
    "            cv2.imshow(config[\"name\"], frame)\n",
    "            frame_count += 1\n",
    "\n",
    "            if cv2.waitKey(1) & 0xFF == 27:\n",
    "                break\n",
    "        \n",
    "        no_detection_frames = 0\n",
    "        if not results.pose_landmarks:\n",
    "            no_detection_frames += 1\n",
    "\n",
    "        total_frames = frame_count\n",
    "        print(f\"Frames sem detecção: {no_detection_frames}/{total_frames} ({no_detection_frames/total_frames*100:.2f}%)\")\n",
    "\n",
    "\n",
    "    cap.release()\n",
    "    pose.close()\n",
    "    cv2.destroyAllWindows()\n",
    "\n",
    "    if fps_values and stabilities:\n",
    "        print(f\"FPS médio: {np.mean(fps_values):.2f}\")\n",
    "        print(f\"Estabilidade média dos landmarks: {np.mean(stabilities):.5f}\")\n",
    "        print(f\"CSV salvo em: {csv_name}\")\n",
    "    else:\n",
    "        print(\"Nenhum dado coletado.\")"
   ]
  },
  {
   "cell_type": "code",
   "execution_count": 34,
   "id": "75718449",
   "metadata": {},
   "outputs": [],
   "source": [
    "\n",
    "#=== Testando configuração: Alta precisão ===\n",
    "#FPS médio: 4.71\n",
    "#Estabilidade média dos landmarks: 0.04507\n",
    "#CSV salvo em: landmarks_Alta_precisão.csv\n",
    "#\n",
    "#=== Testando configuração: Média precisão ===\n",
    "#FPS médio: 22.24\n",
    "#Estabilidade média dos landmarks: 0.01965\n",
    "#CSV salvo em: landmarks_Média_precisão.csv\n",
    "#\n",
    "#=== Testando configuração: Baixa precisão (alta velocidade) ===\n",
    "#FPS médio: 26.90\n",
    "#Estabilidade média dos landmarks: 0.04616\n",
    "#CSV salvo em: landmarks_Baixa_precisão_(alta_velocidade).csv"
   ]
  },
  {
   "cell_type": "code",
   "execution_count": 35,
   "id": "91fa93cf",
   "metadata": {},
   "outputs": [
    {
     "data": {
      "image/png": "[encoded data removed]",
      "text/plain": [
       "<Figure size 1000x400 with 2 Axes>"
      ]
     },
     "metadata": {},
     "output_type": "display_data"
    }
   ],
   "source": [
    "resultados = {\n",
    "    \"Alta precisão\": {\"fps\": 4.71, \"estabilidade\": 0.04507},\n",
    "    \"Média precisão\": {\"fps\": 22.24, \"estabilidade\": 0.01965},\n",
    "    \"Baixa precisão\": {\"fps\": 26.90, \"estabilidade\": 0.04616},\n",
    "}\n",
    "\n",
    "df = pd.DataFrame(resultados).T\n",
    "df.plot(kind=\"bar\", subplots=True, layout=(1, 2), figsize=(10, 4))\n",
    "plt.suptitle(\"Comparativo de configurações Mediapipe\")\n",
    "plt.show()\n"
   ]
  },
  {
   "cell_type": "code",
   "execution_count": 36,
   "id": "de465f54",
   "metadata": {},
   "outputs": [],
   "source": [
    "# Protótipo de detecção de pose\n",
    "cap = cv2.VideoCapture(0)\n",
    "\n",
    "with mp_pose.Pose() as pose:\n",
    "    while True:\n",
    "        ret, frame = cap.read()\n",
    "        if not ret:\n",
    "            break\n",
    "\n",
    "        rgb = cv2.cvtColor(frame, cv2.COLOR_BGR2RGB)\n",
    "        results = pose.process(rgb)\n",
    "\n",
    "        if results.pose_landmarks:\n",
    "            mp_drawing.draw_landmarks(frame, results.pose_landmarks, mp_pose.POSE_CONNECTIONS)\n",
    "\n",
    "        cv2.imshow(\"Pose Detection\", frame)\n",
    "        if cv2.waitKey(1) & 0xFF == 27:\n",
    "            break\n",
    "\n",
    "cap.release()\n",
    "cv2.destroyAllWindows()"
   ]
  }
 ],
 "metadata": {
  "kernelspec": {
   "display_name": "Python 3",
   "language": "python",
   "name": "python3"
  },
  "language_info": {
   "codemirror_mode": {
    "name": "ipython",
    "version": 3
   },
   "file_extension": ".py",
   "mimetype": "text/x-python",
   "name": "python",
   "nbconvert_exporter": "python",
   "pygments_lexer": "ipython3",
   "version": "3.12.1"
  }
 },
 "nbformat": 4,
 "nbformat_minor": 5
}
